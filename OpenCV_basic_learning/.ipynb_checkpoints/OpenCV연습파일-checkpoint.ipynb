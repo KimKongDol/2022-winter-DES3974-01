{
 "cells": [
  {
   "cell_type": "markdown",
   "id": "52a89d01",
   "metadata": {},
   "source": [
    "# openCV설치\n",
    "### OpenCV는 영상과 동영상처리에 사용되는 오픈 소스 라이브러리\n",
    ">pip install opencv-python"
   ]
  },
  {
   "cell_type": "code",
   "execution_count": null,
   "id": "d3f90471",
   "metadata": {},
   "outputs": [],
   "source": [
    "import cv2\n",
    "cv2.__version__"
   ]
  },
  {
   "cell_type": "markdown",
   "id": "7fa0f9d3",
   "metadata": {},
   "source": [
    "## 이미지 출력 테스트"
   ]
  },
  {
   "cell_type": "code",
   "execution_count": 15,
   "id": "26181356",
   "metadata": {},
   "outputs": [
    {
     "name": "stdout",
     "output_type": "stream",
     "text": [
      "-1\n"
     ]
    }
   ],
   "source": [
    "import cv2\n",
    "lame = cv2.imread('lame_img.jpg') #파일부르기\n",
    "cv2.imshow('lame image',lame) #'lame image' 창에 lame이미지 띄우기\n",
    "# cv2.waitKey(0)#지정된 시간(msec) 동안 사용자 키 입력 대기\n",
    "key = cv2.waitKey(0)\n",
    "if(key == 32) : \n",
    "    print('스페이스바 눌려서 끔')\n",
    "print(key)#사용자가 누른 키를 출력할 수 있음\n",
    "cv2.destroyAllWindows()#위에서 띄운 모든 창 닫기"
   ]
  },
  {
   "cell_type": "markdown",
   "id": "5a31d655",
   "metadata": {},
   "source": [
    "## 이미지출력 옵션1: 색상\n",
    "1. cv2.IMREAD_COLOR : 컬러이미지, png의 투명영역은 무시됨(디폴트 값)\n",
    "2. cv2.IMREAD_GRAYSCALE : 흑백 이미지로 불러옴\n",
    "3. cv2.IMREAD_UNCHANGED : PNG의 투명 영역도 포함"
   ]
  },
  {
   "cell_type": "code",
   "execution_count": 13,
   "id": "d4cd26ac",
   "metadata": {},
   "outputs": [],
   "source": [
    "import cv2\n",
    "img_color = cv2.imread('lame_img.jpg',cv2.IMREAD_COLOR)\n",
    "img_gray = cv2.imread('lame_img.jpg',cv2.IMREAD_GRAYSCALE)\n",
    "img_unchaged = cv2.imread('lame_img.jpg',cv2.IMREAD_UNCHANGED)\n",
    "\n",
    "cv2.imshow('img_color',img_color)\n",
    "cv2.imshow('img_gray',img_grey)\n",
    "cv2.imshow('img_unchanged',img_unchaged)\n",
    "\n",
    "cv2.waitKey(0)\n",
    "cv2.destroyAllWindows()"
   ]
  },
  {
   "cell_type": "markdown",
   "id": "a01d5e31",
   "metadata": {},
   "source": [
    "## 이미지출력 옵션2: 쉐입\n",
    "이미지의 height나 weight,channel정보(RGB면 3이 나옴, 투명부분있으면 4)"
   ]
  },
  {
   "cell_type": "code",
   "execution_count": 14,
   "id": "d69e9b6c",
   "metadata": {},
   "outputs": [
    {
     "data": {
      "text/plain": [
       "(427, 640, 3)"
      ]
     },
     "execution_count": 14,
     "metadata": {},
     "output_type": "execute_result"
    }
   ],
   "source": [
    "import cv2\n",
    "img = cv2.imread('lame_img.jpg')\n",
    "img.shape"
   ]
  },
  {
   "cell_type": "code",
   "execution_count": null,
   "id": "e68ba04c",
   "metadata": {},
   "outputs": [],
   "source": []
  },
  {
   "cell_type": "markdown",
   "id": "bd008992",
   "metadata": {},
   "source": [
    "# 스케치북 그리고 도형 그리기\n",
    "\n",
    "### 스케치북"
   ]
  },
  {
   "cell_type": "code",
   "execution_count": 8,
   "id": "7ffe06b6",
   "metadata": {},
   "outputs": [],
   "source": [
    "import cv2\n",
    "import numpy as np\n",
    "\n",
    "# 세로*가로, 채널(RGB)에 해당하는 스케치북 만들기\n",
    "sketchbook = np.zeros((480,640,3),dtype=np.uint8)\n",
    "#원하는 색 입력(255,255,255)는 화이트, []는 영역을 말하는 부분\n",
    "sketchbook[:]=(200,255,255)\n",
    "cv2.imshow('booook_for_drawing',sketchbook)\n",
    "cv2.waitKey(0)\n",
    "cv2.destroyAllWindows()"
   ]
  },
  {
   "cell_type": "markdown",
   "id": "7ab91f4d",
   "metadata": {},
   "source": [
    "### 일부 영역 색칠"
   ]
  },
  {
   "cell_type": "code",
   "execution_count": 9,
   "id": "f15b3b81",
   "metadata": {},
   "outputs": [],
   "source": [
    "import cv2\n",
    "import numpy as np\n",
    "\n",
    "sketchbook = np.zeros((480,640,3),dtype=np.uint8)\n",
    "# 세로는100~200, 가로는 200~300까지 영역 색칠\n",
    "sketchbook[100:200,200:300]=(200,255,255)\n",
    "\n",
    "cv2.imshow('booook_for_drawing',sketchbook)\n",
    "cv2.waitKey(0)\n",
    "cv2.destroyAllWindows()"
   ]
  },
  {
   "cell_type": "markdown",
   "id": "4bf41f8e",
   "metadata": {},
   "source": [
    "# 이미지에 도형 그리기"
   ]
  },
  {
   "cell_type": "markdown",
   "id": "94f8d82b",
   "metadata": {},
   "source": [
    "### 사각형 그리기"
   ]
  },
  {
   "cell_type": "code",
   "execution_count": 1,
   "id": "20e29529",
   "metadata": {},
   "outputs": [],
   "source": [
    "import cv2\n",
    "import numpy as np\n",
    "\n",
    "lame = cv2.imread('lame_img.jpg')\n",
    "# 세로는100~200, 가로는 200~300까지 영역 색칠\n",
    "lame[110:210,200:300]=(200,255,255)\n",
    "\n",
    "cv2.imshow('lame_for_drawing',lame)\n",
    "cv2.waitKey(0)\n",
    "cv2.destroyAllWindows()"
   ]
  },
  {
   "cell_type": "markdown",
   "id": "81be1244",
   "metadata": {},
   "source": [
    "### 원그리기"
   ]
  },
  {
   "cell_type": "code",
   "execution_count": 4,
   "id": "51e06144",
   "metadata": {},
   "outputs": [],
   "source": [
    "import cv2\n",
    "import numpy as np\n",
    "\n",
    "lame = cv2.imread('lame_img.jpg')\n",
    "# 세로는100~200, 가로는 200~300까지 영역 색칠\n",
    "\n",
    "COLOR = (255,255,0) #BGR옥색\n",
    "RADIUS = 50 #반지름\n",
    "THICKNESS = 10 #선두께\n",
    "\n",
    "#그릴 위치, 원의 중심점, 반지름, 색깔, 두께, 선종류\n",
    "cv2.circle(lame,(300,100),RADIUS,COLOR,THICKNESS, cv2.LINE_AA) #속이 빈 원\n",
    "\n",
    "cv2.circle(lame,(100,200),RADIUS,(140,255,255),cv2.FILLED, cv2.LINE_AA) #속이 찬 원(노랑)\n",
    "cv2.circle(lame,(500,300),20,(199,242,164),cv2.FILLED, cv2.LINE_AA) #속이 찬 원(연두)\n",
    "\n",
    "#사각형(대상,xywh튜플, 색, 선두께(-1이면 내부채움))\n",
    "cv2.rectangle(lame, (50, 200, 150, 100), (0, 255, 0), 2)\n",
    "\n",
    "cv2.imshow('lame_for_drawing',lame)\n",
    "cv2.waitKey(0)\n",
    "cv2.destroyAllWindows()"
   ]
  },
  {
   "cell_type": "markdown",
   "id": "25809ec9",
   "metadata": {},
   "source": [
    "### 투명도 연습"
   ]
  },
  {
   "cell_type": "code",
   "execution_count": 2,
   "id": "b01adfef",
   "metadata": {},
   "outputs": [],
   "source": [
    "import cv2\n",
    "import numpy as np\n",
    "\n",
    "lame = cv2.imread('lame_img.jpg')\n",
    "\n",
    "#마스크 생성\n",
    "shapes = np.zeros_like(lame, np.uint8)\n",
    "\n",
    "COLOR = (146,72,249)#BGR이라는 것!!\n",
    "RADIUS = 50 #반지름\n",
    "THICKNESS = 10 #선두께\n",
    "\n",
    "cv2.circle(shapes,(290,290),RADIUS,COLOR,cv2.FILLED) #속이 찬 원(핑크)\n",
    "\n",
    "out=lame.copy()\n",
    "alpha = 0.4\n",
    "mask = shapes.astype(bool)\n",
    "out[mask] = cv2.addWeighted(lame,alpha,shapes,1-alpha,0)[mask]\n",
    "\n",
    "# cv2.imshow('original',lame)\n",
    "# cv2.imshow('shapes',shapes)\n",
    "cv2.imshow('masked lame',out)\n",
    "cv2.waitKey(0)\n",
    "cv2.destroyAllWindows()"
   ]
  },
  {
   "cell_type": "markdown",
   "id": "f139061e",
   "metadata": {},
   "source": [
    "# 이미지 파일로 저장"
   ]
  },
  {
   "cell_type": "code",
   "execution_count": 8,
   "id": "23ea37d5",
   "metadata": {},
   "outputs": [
    {
     "name": "stdout",
     "output_type": "stream",
     "text": [
      "저장성공\n"
     ]
    }
   ],
   "source": [
    "import cv2\n",
    "img = cv2.imread('lame_img.jpg', cv2.IMREAD_GRAYSCALE)\n",
    "cv2.imshow('file saving test', img)\n",
    "cv2.waitKey(0)\n",
    "cv2.destroyAllWindows()\n",
    "\n",
    "result = cv2.imwrite('gray_lame.jpg',img)\n",
    "if result : print('저장성공')"
   ]
  },
  {
   "cell_type": "markdown",
   "id": "4b894bf6",
   "metadata": {},
   "source": [
    "# 이미지 원근 변형"
   ]
  },
  {
   "cell_type": "code",
   "execution_count": 14,
   "id": "af603a88",
   "metadata": {},
   "outputs": [],
   "source": [
    "import cv2\n",
    "import numpy as np\n",
    "\n",
    "original = cv2.imread('oldphoto.jpg')\n",
    "\n",
    "width, height = 286,435 #가로세로 크기로 결과물 출력\n",
    "\n",
    "src = np.array([[614,130],[835,198],[742,576],[524,493]],dtype=np.float32) #input 4개\n",
    "dst = np.array([[0,0],[width,0],[width,height],[0,height]],dtype=np.float32) #output 4개\n",
    "\n",
    "matrix = cv2.getPerspectiveTransform(src,dst)#matrix를 얻어옴\n",
    "result = cv2.warpPerspective(paper,matrix,(width,height)) #matrix대로 변환\n",
    "\n",
    "cv2.imshow('original',original)\n",
    "cv2.imshow('result',result)\n",
    "cv2.waitKey(0)\n",
    "cv2.destroyAllWindows()"
   ]
  },
  {
   "cell_type": "code",
   "execution_count": null,
   "id": "9c03a5f1",
   "metadata": {},
   "outputs": [],
   "source": []
  },
  {
   "cell_type": "code",
   "execution_count": null,
   "id": "e56472d1",
   "metadata": {},
   "outputs": [],
   "source": []
  },
  {
   "cell_type": "code",
   "execution_count": null,
   "id": "066590f1",
   "metadata": {},
   "outputs": [],
   "source": []
  }
 ],
 "metadata": {
  "kernelspec": {
   "display_name": "Python 3 (ipykernel)",
   "language": "python",
   "name": "python3"
  },
  "language_info": {
   "codemirror_mode": {
    "name": "ipython",
    "version": 3
   },
   "file_extension": ".py",
   "mimetype": "text/x-python",
   "name": "python",
   "nbconvert_exporter": "python",
   "pygments_lexer": "ipython3",
   "version": "3.10.0"
  }
 },
 "nbformat": 4,
 "nbformat_minor": 5
}
